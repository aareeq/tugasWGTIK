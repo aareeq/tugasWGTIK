{
 "cells": [
  {
   "cell_type": "code",
   "execution_count": 36,
   "id": "6d5ca8a0-59e7-4136-8607-ba2d9c6582ba",
   "metadata": {},
   "outputs": [
    {
     "name": "stdout",
     "output_type": "stream",
     "text": [
      "Syachariq Mohammad Firzy\n",
      "NIM 103042310056\n",
      "IF-47-02\n",
      "MNI\n"
     ]
    }
   ],
   "source": [
    "print(\"Syachariq Mohammad Firzy\") \n",
    "print(\"NIM 103042310056\") \n",
    "print(\"IF-47-02\")\n",
    "print(\"MNI\")"
   ]
  },
  {
   "cell_type": "code",
   "execution_count": 37,
   "id": "a943a053-bd27-410d-a12a-fe420edc135c",
   "metadata": {},
   "outputs": [],
   "source": [
    "def hill_climb_max(f, start, step, domain):\n",
    "    # f adalah fungsi yang ingin dimaksimalkan\n",
    "    # start adalahh nilai awal dari pencarian\n",
    "    # step adalah besar langkah perubahan nilai x setiap iterasi\n",
    "    # domain -adalah batasan x dalam bentuk tuple (min, max)\n",
    "    x = start #Syachariq Mohammad F  - 103042310056\n",
    "    while True:\n",
    "        next_x = x + step\n",
    "        if next_x > domain[1]:\n",
    "            break\n",
    "        if f(next_x) > f(x):\n",
    "            x = next_x\n",
    "        else:\n",
    "            break\n",
    "    return x, f(x)"
   ]
  },
  {
   "cell_type": "code",
   "execution_count": 38,
   "id": "c20f355b-9757-4c3c-ad58-280060dc4baa",
   "metadata": {},
   "outputs": [],
   "source": [
    "f = lambda x: -x**2 + 4*x + 6"
   ]
  },
  {
   "cell_type": "code",
   "execution_count": 39,
   "id": "53e501a5-0320-43b2-a5a3-0302df32910c",
   "metadata": {},
   "outputs": [
    {
     "name": "stdout",
     "output_type": "stream",
     "text": [
      "x maksimal = 2.0, f(x) = 10.0\n"
     ]
    }
   ],
   "source": [
    "x_max, fx_max = hill_climb_max(f, start=0, step=0.5, domain=(0,5))\n",
    "print(f\"x maksimal = {x_max}, f(x) = {fx_max}\" )\n",
    "#Syachariq Mohammad F  - 103042310056"
   ]
  },
  {
   "cell_type": "code",
   "execution_count": 40,
   "id": "ed5acbcc-af86-4b49-ba30-ddb990cf37ba",
   "metadata": {},
   "outputs": [],
   "source": [
    "import random\n",
    "import math"
   ]
  },
  {
   "cell_type": "code",
   "execution_count": 43,
   "id": "f60d5e01-4141-4c39-840d-0a52ccbee0a8",
   "metadata": {},
   "outputs": [],
   "source": [
    "def f(x):\n",
    "    return x* math.sin(10 * math.pi * x) + 1"
   ]
  },
  {
   "cell_type": "code",
   "execution_count": 44,
   "id": "b5a0509b-467b-4029-af51-a30aad3d7477",
   "metadata": {},
   "outputs": [],
   "source": [
    "def simulated_annealing(f, x0, domain, T=1.0, alpha=0.9, step=0.1):\n",
    "    current = x0\n",
    "    best = x0 #Syachariq Mohammad F  - 103042310056\n",
    "    while T >0.001:\n",
    "        next_x = current + random.uniform(-step, step)\n",
    "        if domain[0] <= next_x <= domain[1]:\n",
    "            delta = f(next_x) - f(current)\n",
    "            if delta <0 or math.exp(-delta/T) > random.random():\n",
    "                current = next_x\n",
    "                if f(current) < f(best):\n",
    "                    best = current\n",
    "        T *=alpha\n",
    "    return best,f(best)"
   ]
  },
  {
   "cell_type": "code",
   "execution_count": 45,
   "id": "e6bf1115-e319-4833-b034-7036207e8c89",
   "metadata": {},
   "outputs": [
    {
     "name": "stdout",
     "output_type": "stream",
     "text": [
      "x minimum = 0.9605475867388525, f(x) = 0.09170615277378458\n"
     ]
    }
   ],
   "source": [
    "x_min, fx_min = simulated_annealing(f, x0=1.0, domain=(0,1))\n",
    "print(f\"x minimum = {x_min}, f(x) = {fx_min}\")"
   ]
  },
  {
   "cell_type": "code",
   "execution_count": null,
   "id": "f8f34c1c-089a-487b-b202-3026d1bff702",
   "metadata": {},
   "outputs": [],
   "source": []
  }
 ],
 "metadata": {
  "kernelspec": {
   "display_name": "Python 3 (ipykernel)",
   "language": "python",
   "name": "python3"
  },
  "language_info": {
   "codemirror_mode": {
    "name": "ipython",
    "version": 3
   },
   "file_extension": ".py",
   "mimetype": "text/x-python",
   "name": "python",
   "nbconvert_exporter": "python",
   "pygments_lexer": "ipython3",
   "version": "3.12.7"
  }
 },
 "nbformat": 4,
 "nbformat_minor": 5
}
